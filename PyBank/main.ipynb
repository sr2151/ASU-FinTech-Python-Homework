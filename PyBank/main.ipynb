{
 "cells": [
  {
   "cell_type": "code",
   "execution_count": 25,
   "metadata": {},
   "outputs": [],
   "source": [
    "# Data Automation: PyBank\n",
    "\n",
    "### import & define file path, check file path\n",
    "\n",
    "import csv\n",
    "from pathlib import Path\n",
    "csv_data = Path(\"budget_data.csv\")"
   ]
  },
  {
   "cell_type": "code",
   "execution_count": 26,
   "metadata": {},
   "outputs": [],
   "source": [
    "### define, initalize variables & lists\n",
    "total_months = 0\n",
    "date_list = []\n",
    "difference_pl_list = []\n",
    "\n",
    "total_net_pl = 0\n",
    "net_pl_list = []\n",
    "date = []\n"
   ]
  },
  {
   "cell_type": "code",
   "execution_count": 27,
   "metadata": {},
   "outputs": [],
   "source": [
    "### open csv\n",
    "with open(csv_data) as csvfile:\n",
    "    csvreader = csv.reader(csvfile)\n",
    "    csvheader = next(csvreader)\n",
    "    \n",
    "    # determine total number of months \n",
    "    for row in csvreader:\n",
    "        total_months += 1\n",
    "        # determine the net total amt of p/l over the entire period\n",
    "        total_net_pl = total_net_pl + int(row[1])\n",
    "        net_pl_list.append(int(row[1]))\n",
    "        date.append(row[0])\n",
    "    \n",
    "    for i in range(1, len(net_pl_list)):\n",
    "        difference_pl_list.append(net_pl_list[i] - net_pl_list[i - 1])\n",
    "        "
   ]
  },
  {
   "cell_type": "code",
   "execution_count": 28,
   "metadata": {},
   "outputs": [
    {
     "name": "stdout",
     "output_type": "stream",
     "text": [
      "86\n",
      "38382578\n"
     ]
    }
   ],
   "source": [
    "### print & verify \n",
    "print(total_months)\n",
    "print(total_net_pl)"
   ]
  },
  {
   "cell_type": "code",
   "execution_count": 31,
   "metadata": {},
   "outputs": [],
   "source": [
    "### calculate average of changes in p/l over the entire period\n",
    "avg_pl = sum(difference_pl_list) / len(difference_pl_list)"
   ]
  },
  {
   "cell_type": "code",
   "execution_count": 32,
   "metadata": {},
   "outputs": [
    {
     "name": "stdout",
     "output_type": "stream",
     "text": [
      "-2315.1176470588234\n"
     ]
    }
   ],
   "source": [
    "### print & verify\n",
    "print(avg_pl)"
   ]
  },
  {
   "cell_type": "code",
   "execution_count": 40,
   "metadata": {},
   "outputs": [],
   "source": [
    "### calculate greatest increase in p over the entire period\n",
    "greatest_inc_p = max(difference_pl_list)\n",
    "greatest_inc_date = str(date[difference_pl_list.index(max(difference_pl_list))+ 1])"
   ]
  },
  {
   "cell_type": "code",
   "execution_count": 41,
   "metadata": {},
   "outputs": [
    {
     "name": "stdout",
     "output_type": "stream",
     "text": [
      "Feb-2012 1926159\n"
     ]
    }
   ],
   "source": [
    "### print & verify\n",
    "print(f\"{greatest_inc_date} {greatest_inc_p}\")"
   ]
  },
  {
   "cell_type": "code",
   "execution_count": 42,
   "metadata": {},
   "outputs": [
    {
     "name": "stdout",
     "output_type": "stream",
     "text": [
      "Sep-2013 -2196167\n"
     ]
    }
   ],
   "source": [
    "### calculate greatest decrease in l over the entire period\n",
    "greatest_dec_l = min(difference_pl_list)\n",
    "greatest_dec_date = str(date[difference_pl_list.index(min(difference_pl_list))+ 1])\n",
    "### print & verify\n",
    "print(f\"{greatest_dec_date} {greatest_dec_l}\")"
   ]
  },
  {
   "cell_type": "code",
   "execution_count": 45,
   "metadata": {},
   "outputs": [
    {
     "name": "stdout",
     "output_type": "stream",
     "text": [
      "Financial Analysis\n",
      "----------------------------\n",
      "Total Months: 86\n",
      "Total: $38382578\n",
      "Average  Change: $-2315.1176470588234\n",
      "Greatest Increase in Profits: Feb-2012 $1926159\n",
      "Greatest Decrease in Profits: Sep-2013 $-2196167\n"
     ]
    }
   ],
   "source": [
    "# PRINT OUT OF SUMMARY ANALYSIS\n",
    "print(\"Financial Analysis\")\n",
    "print(\"----------------------------\")\n",
    "print(f\"Total Months: {total_months}\")\n",
    "print(f\"Total: ${total_net_pl}\")\n",
    "print(f\"Average  Change: ${avg_pl}\")\n",
    "print(f\"Greatest Increase in Profits: {greatest_inc_date} ${greatest_inc_p}\")\n",
    "print(f\"Greatest Decrease in Profits: {greatest_dec_date} ${greatest_dec_l}\")"
   ]
  },
  {
   "cell_type": "code",
   "execution_count": 46,
   "metadata": {},
   "outputs": [],
   "source": [
    "### print summary analysis to 'Terminal' and export a txt. w/ results\n",
    "### set output file name\n",
    "output_path = 'output.txt'\n",
    "### open output path as file object\n",
    "with open (output_path, 'w') as file:\n",
    "    file.write(\"Financial Analysis \\n\")\n",
    "    file.write(\"---------------------------- \\n\")\n",
    "    file.write(f\"Total Months: {total_months} \\n\")\n",
    "    file.write(f\"Total: ${total_net_pl} \\n\")\n",
    "    file.write(f\"Average  Change: ${avg_pl} \\n\")\n",
    "    file.write(f\"Greatest Increase in Profits: {greatest_inc_date} ${greatest_inc_p} \\n\")\n",
    "    file.write(f\"Greatest Decrease in Profits: {greatest_dec_date} ${greatest_dec_l} \\n\")"
   ]
  },
  {
   "cell_type": "code",
   "execution_count": null,
   "metadata": {},
   "outputs": [],
   "source": []
  }
 ],
 "metadata": {
  "kernelspec": {
   "display_name": "Python 3",
   "language": "python",
   "name": "python3"
  },
  "language_info": {
   "codemirror_mode": {
    "name": "ipython",
    "version": 3
   },
   "file_extension": ".py",
   "mimetype": "text/x-python",
   "name": "python",
   "nbconvert_exporter": "python",
   "pygments_lexer": "ipython3",
   "version": "3.7.9"
  }
 },
 "nbformat": 4,
 "nbformat_minor": 4
}
